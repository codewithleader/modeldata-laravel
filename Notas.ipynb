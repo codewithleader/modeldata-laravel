{
 "cells": [
  {
   "cell_type": "markdown",
   "metadata": {},
   "source": [
    "## Actualizar una migración\n",
    "\n",
    "ACTUALIZACIÓN: Crear actualización de la migración\n",
    "\n",
    "```bash\n",
    "php artisan make:migration update_name_table\n",
    "```"
   ]
  },
  {
   "cell_type": "code",
   "execution_count": null,
   "metadata": {
    "vscode": {
     "languageId": "php"
    }
   },
   "outputs": [],
   "source": [
    "<?php\n",
    "\n",
    "use Illuminate\\Database\\Migrations\\Migration;\n",
    "use Illuminate\\Database\\Schema\\Blueprint;\n",
    "use Illuminate\\Support\\Facades\\Schema;\n",
    "\n",
    "return new class extends Migration\n",
    "{\n",
    "    /**\n",
    "     * Run the migrations.\n",
    "     */\n",
    "    public function up(): void\n",
    "    {\n",
    "        Schema::table('notes', function (Blueprint $table) {\n",
    "            // Crear nuevas columnas:\n",
    "            $table->string('author');\n",
    "            // Eliminar columnas:\n",
    "            $table->dropColumn(['deadline']);\n",
    "        });\n",
    "    }\n",
    "\n",
    "    /**\n",
    "     * Reverse the migrations.\n",
    "     */\n",
    "    public function down(): void\n",
    "    {\n",
    "        // Eliminar solo las columnas que se agregaron en esta actualización\n",
    "        Schema::dropColumns(['author']);\n",
    "    }\n",
    "};\n"
   ]
  }
 ],
 "metadata": {
  "language_info": {
   "name": "python"
  }
 },
 "nbformat": 4,
 "nbformat_minor": 2
}
